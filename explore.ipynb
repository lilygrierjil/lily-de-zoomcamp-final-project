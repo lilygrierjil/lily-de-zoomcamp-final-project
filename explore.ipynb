{
 "cells": [
  {
   "cell_type": "code",
   "execution_count": 1,
   "metadata": {},
   "outputs": [],
   "source": [
    "from pathlib import Path\n",
    "import pandas as pd\n"
   ]
  },
  {
   "cell_type": "code",
   "execution_count": 33,
   "metadata": {},
   "outputs": [],
   "source": [
    "df = pd.read_parquet('data/memphis_police_data.parquet')"
   ]
  },
  {
   "cell_type": "code",
   "execution_count": 34,
   "metadata": {},
   "outputs": [],
   "source": [
    "# cleaning step 1: rename city\n",
    "df['city'] = df['city'].rename({'MEMPHIS': 'Memphis', 'M': 'Memphis'})"
   ]
  },
  {
   "cell_type": "code",
   "execution_count": 39,
   "metadata": {},
   "outputs": [],
   "source": [
    "# cleaning step 2: cast as datetime, extract day\n",
    "df['offense_date_datetime'] = pd.to_datetime(df['offense_date'])\n",
    "df['offense_date_day'] = df['offense_date_datetime'].dt.date"
   ]
  },
  {
   "cell_type": "code",
   "execution_count": 40,
   "metadata": {},
   "outputs": [
    {
     "data": {
      "text/plain": [
       "0      2006-01-22\n",
       "1      2006-02-26\n",
       "2      2006-03-10\n",
       "3      2006-03-05\n",
       "4      2006-03-04\n",
       "          ...    \n",
       "295    2007-08-16\n",
       "296    2007-08-23\n",
       "297    2007-08-07\n",
       "298    2007-08-16\n",
       "299    2007-09-09\n",
       "Name: offense_date_day, Length: 300, dtype: object"
      ]
     },
     "execution_count": 40,
     "metadata": {},
     "output_type": "execute_result"
    }
   ],
   "source": [
    "df['offense_date_day']"
   ]
  },
  {
   "cell_type": "code",
   "execution_count": 22,
   "metadata": {},
   "outputs": [],
   "source": [
    "# cleaning step 3: \n",
    "df"
   ]
  },
  {
   "cell_type": "code",
   "execution_count": null,
   "metadata": {},
   "outputs": [],
   "source": []
  }
 ],
 "metadata": {
  "kernelspec": {
   "display_name": "zoomcamp",
   "language": "python",
   "name": "python3"
  },
  "language_info": {
   "codemirror_mode": {
    "name": "ipython",
    "version": 3
   },
   "file_extension": ".py",
   "mimetype": "text/x-python",
   "name": "python",
   "nbconvert_exporter": "python",
   "pygments_lexer": "ipython3",
   "version": "3.9.16 (main, Jan 11 2023, 16:05:54) \n[GCC 11.2.0]"
  },
  "orig_nbformat": 4,
  "vscode": {
   "interpreter": {
    "hash": "291482f6c0f21cb2621dc2d1f9f80d853c97a56467840424b5950a4f0b81b7a7"
   }
  }
 },
 "nbformat": 4,
 "nbformat_minor": 2
}
