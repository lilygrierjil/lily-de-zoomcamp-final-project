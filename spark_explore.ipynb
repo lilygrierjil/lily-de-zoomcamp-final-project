{
 "cells": [
  {
   "cell_type": "code",
   "execution_count": null,
   "metadata": {},
   "outputs": [],
   "source": [
    "import pyspark\n",
    "from pyspark.sql import SparkSession\n",
    "from pyspark.sql import types\n"
   ]
  },
  {
   "cell_type": "code",
   "execution_count": null,
   "metadata": {},
   "outputs": [],
   "source": [
    "spark = SparkSession.builder \\\n",
    "    .master(\"local[*]\") \\\n",
    "    .appName('test') \\\n",
    "    .getOrCreate()"
   ]
  },
  {
   "cell_type": "code",
   "execution_count": null,
   "metadata": {},
   "outputs": [],
   "source": [
    "import pandas as pd\n",
    "pandas_df = pd.read_parquet('data/memphis_police_data.parquet')"
   ]
  },
  {
   "cell_type": "code",
   "execution_count": null,
   "metadata": {},
   "outputs": [],
   "source": [
    "mpd_schema = types.StructType([\n",
    "    types.StructField(\"crime_id\", types.StringType(), True),\n",
    "    types.StructField(\"offense_date\", types.StringType(), True),\n",
    "    types.StructField(\"agency_crimetype_id\", types.StringType(), True),\n",
    "    types.StructField(\"city\", types.StringType(), True),\n",
    "    types.StructField(\"state\", types.StringType(), True),\n",
    "    types.StructField(\"masked_address\", types.StringType(), True),\n",
    "    types.StructField(\"category\", types.StringType(), True),\n",
    "    types.StructField(\"coord1\", types.DoubleType(), True),\n",
    "    types.StructField(\"coord2\", types.DoubleType(), True),\n",
    "    #types.StructField(\"location\", types.MapType(types.StringType(), types.StringType()), True),\n",
    "    types.StructField(\"offense_date_datetime\", types.TimestampType(), True),\n",
    "])"
   ]
  },
  {
   "cell_type": "code",
   "execution_count": null,
   "metadata": {},
   "outputs": [],
   "source": [
    "filepath = 'data/memphis_police_data.parquet'"
   ]
  },
  {
   "cell_type": "code",
   "execution_count": null,
   "metadata": {},
   "outputs": [],
   "source": [
    "df = spark.read.schema(mpd_schema).parquet(filepath)"
   ]
  },
  {
   "cell_type": "code",
   "execution_count": null,
   "metadata": {},
   "outputs": [],
   "source": [
    "df.show()"
   ]
  },
  {
   "cell_type": "code",
   "execution_count": null,
   "metadata": {},
   "outputs": [],
   "source": [
    "from pyspark.sql.functions import to_date\n",
    "df = df.withColumn('offense_day', to_date('offense_date_datetime'))"
   ]
  },
  {
   "cell_type": "code",
   "execution_count": null,
   "metadata": {},
   "outputs": [],
   "source": [
    "df.registerTempTable('memphis')"
   ]
  },
  {
   "cell_type": "code",
   "execution_count": null,
   "metadata": {},
   "outputs": [],
   "source": [
    "pandas_df.columns"
   ]
  },
  {
   "cell_type": "code",
   "execution_count": null,
   "metadata": {},
   "outputs": [],
   "source": [
    "results_df = spark.sql('''\n",
    "SELECT agency_crimetype_id,\n",
    "offense_day,\n",
    "FIRST(category),\n",
    "COUNT(agency_crimetype_id) AS daily_crimes\n",
    "FROM memphis\n",
    "GROUP BY 1, 2\n",
    "SORT BY daily_crimes DESC\n",
    "''')\n",
    "results_df.show()"
   ]
  },
  {
   "cell_type": "code",
   "execution_count": null,
   "metadata": {},
   "outputs": [],
   "source": [
    "# rename columns for report"
   ]
  },
  {
   "cell_type": "code",
   "execution_count": null,
   "metadata": {},
   "outputs": [],
   "source": [
    "# write report df to parquet"
   ]
  },
  {
   "cell_type": "code",
   "execution_count": null,
   "metadata": {},
   "outputs": [],
   "source": []
  }
 ],
 "metadata": {
  "kernelspec": {
   "display_name": "zoomcamp",
   "language": "python",
   "name": "python3"
  },
  "language_info": {
   "codemirror_mode": {
    "name": "ipython",
    "version": 3
   },
   "file_extension": ".py",
   "mimetype": "text/x-python",
   "name": "python",
   "nbconvert_exporter": "python",
   "pygments_lexer": "ipython3",
   "version": "3.9.16"
  },
  "orig_nbformat": 4,
  "vscode": {
   "interpreter": {
    "hash": "291482f6c0f21cb2621dc2d1f9f80d853c97a56467840424b5950a4f0b81b7a7"
   }
  }
 },
 "nbformat": 4,
 "nbformat_minor": 2
}
